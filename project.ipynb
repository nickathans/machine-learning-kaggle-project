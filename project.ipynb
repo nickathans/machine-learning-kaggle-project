{
 "cells": [
  {
   "cell_type": "code",
   "execution_count": 9,
   "metadata": {},
   "outputs": [],
   "source": [
    "import warnings\n",
    "\n",
    "import matplotlib.pyplot as plt\n",
    "import nltk\n",
    "import numpy as np\n",
    "import pandas as pd\n",
    "import pickle\n",
    "import re\n",
    "import string\n",
    "from nltk.corpus import stopwords\n",
    "from nltk.stem import WordNetLemmatizer\n",
    "from sklearn.base import TransformerMixin\n",
    "from sklearn.feature_extraction.text import TfidfVectorizer\n",
    "from sklearn.metrics import (\n",
    "    accuracy_score,\n",
    "    classification_report,\n",
    "    confusion_matrix,\n",
    "    plot_confusion_matrix,\n",
    "    recall_score,\n",
    "    roc_auc_score,\n",
    ")\n",
    "from sklearn.model_selection import train_test_split\n",
    "\n",
    "from sklearn.pipeline import FeatureUnion, Pipeline\n",
    "from sklearn.preprocessing import (\n",
    "    MaxAbsScaler,\n",
    "    Normalizer,\n",
    "    OneHotEncoder,\n",
    "    RobustScaler,\n",
    "    StandardScaler,\n",
    ")\n",
    "\n",
    "from sklearn.svm import LinearSVC\n",
    "from sklearn.feature_selection import SelectFromModel\n",
    "\n",
    "from imblearn.over_sampling import SMOTE\n",
    "from imblearn.pipeline import Pipeline as imbPipeline\n",
    "\n",
    "warnings.filterwarnings(\"ignore\")\n"
   ]
  },
  {
   "cell_type": "code",
   "execution_count": 10,
   "metadata": {},
   "outputs": [],
   "source": [
    "# Reading data___set\n",
    "df = pd.read_csv(\"train.csv\")\n",
    "df_ = pd.read_csv(\"test.csv\")\n",
    "df.rename(\n",
    "    columns={\"required_doughnuts_comsumption\": \"doughnuts_comsumption\"}, inplace=True\n",
    ")"
   ]
  },
  {
   "cell_type": "code",
   "execution_count": 11,
   "metadata": {},
   "outputs": [],
   "source": [
    "# replaceing missing values\n",
    "for column in df_.columns:\n",
    "    df[column] = df[column].fillna(f\"missing{column}\")\n",
    "    df_[column] = df_[column].fillna(f\"missing{column}\")\n"
   ]
  },
  {
   "cell_type": "code",
   "execution_count": 12,
   "metadata": {},
   "outputs": [],
   "source": [
    "def split(location):\n",
    "    l = location.split(\",\")\n",
    "    return l[0]\n",
    "\n",
    "df[\"country\"] = df.location.apply(split)\n",
    "df_[\"country\"] = df.location.apply(split)"
   ]
  },
  {
   "cell_type": "code",
   "execution_count": 13,
   "metadata": {},
   "outputs": [],
   "source": [
    "# concatinating the text features\n",
    "text_cols = [\n",
    "    \"title\",\n",
    "    \"location\",\n",
    "    \"department\",\n",
    "    \"salary_range\",\n",
    "    \"company_profile\",\n",
    "    \"requirements\",\n",
    "    \"benefits\",\n",
    "    \"employment_type\",\n",
    "    \"required_experience\",\n",
    "    \"required_education\",\n",
    "    \"industry\",\n",
    "    \"function\",\n",
    "    \"country\",\n",
    "]\n",
    "\n",
    "for column in text_cols:\n",
    "    df[\"description\"] += \" \" + df[column]\n",
    "    df_[\"description\"] += \" \" + df_[column]"
   ]
  },
  {
   "cell_type": "code",
   "execution_count": null,
   "metadata": {},
   "outputs": [],
   "source": []
  },
  {
   "cell_type": "code",
   "execution_count": 14,
   "metadata": {},
   "outputs": [],
   "source": [
    "# special characters \\r and \\n\n",
    "df[\"Content_Parsed_1\"] = df[\"description\"].str.replace(\"\\r\", \" \")\n",
    "df[\"Content_Parsed_1\"] = df[\"Content_Parsed_1\"].str.replace(\"\\n\", \" \")\n",
    "df[\"Content_Parsed_1\"] = df[\"Content_Parsed_1\"].str.replace(\"    \", \" \")\n",
    "df[\"Content_Parsed_1\"] = df[\"Content_Parsed_1\"].str.replace('\"', \"\")\n",
    "\n",
    "df_[\"Content_Parsed_1\"] = df_[\"description\"].str.replace(\"\\r\", \" \")\n",
    "df_[\"Content_Parsed_1\"] = df_[\"Content_Parsed_1\"].str.replace(\"\\n\", \" \")\n",
    "df_[\"Content_Parsed_1\"] = df_[\"Content_Parsed_1\"].str.replace(\"    \", \" \")\n",
    "df_[\"Content_Parsed_1\"] = df_[\"Content_Parsed_1\"].str.replace('\"', \"\")\n"
   ]
  },
  {
   "cell_type": "code",
   "execution_count": 15,
   "metadata": {},
   "outputs": [],
   "source": [
    "# lowercasing the text\n",
    "df[\"Content_Parsed_2\"] = df[\"Content_Parsed_1\"].str.lower()\n",
    "df_[\"Content_Parsed_2\"] = df_[\"Content_Parsed_1\"].str.lower()"
   ]
  },
  {
   "cell_type": "code",
   "execution_count": 16,
   "metadata": {},
   "outputs": [],
   "source": [
    "punctuations = string.punctuation\n",
    "df[\"Content_Parsed_3\"] = df[\"Content_Parsed_2\"]\n",
    "df_[\"Content_Parsed_3\"] = df_[\"Content_Parsed_2\"]\n",
    "\n",
    "for punct_sign in punctuations:\n",
    "    df[\"Content_Parsed_3\"] = df[\"Content_Parsed_3\"].str.replace(punct_sign, \"\")\n",
    "    df_[\"Content_Parsed_3\"] = df_[\"Content_Parsed_3\"].str.replace(punct_sign, \"\")"
   ]
  },
  {
   "cell_type": "code",
   "execution_count": 17,
   "metadata": {},
   "outputs": [],
   "source": [
    "df[\"Content_Parsed_4\"] = df[\"Content_Parsed_3\"].str.replace(\"'s\", \"\")\n",
    "df_[\"Content_Parsed_4\"] = df_[\"Content_Parsed_3\"].str.replace(\"'s\", \"\")\n"
   ]
  },
  {
   "cell_type": "code",
   "execution_count": 18,
   "metadata": {},
   "outputs": [
    {
     "name": "stderr",
     "output_type": "stream",
     "text": [
      "[nltk_data] Downloading package punkt to /home/zozoka/nltk_data...\n",
      "[nltk_data]   Package punkt is already up-to-date!\n",
      "[nltk_data] Downloading package wordnet to /home/zozoka/nltk_data...\n",
      "[nltk_data]   Package wordnet is already up-to-date!\n",
      "[nltk_data] Downloading package stopwords to /home/zozoka/nltk_data...\n",
      "[nltk_data]   Package stopwords is already up-to-date!\n"
     ]
    }
   ],
   "source": [
    "# Downloading punkt and wordnet from NLTK\n",
    "nltk.download(\"punkt\")\n",
    "nltk.download(\"wordnet\")\n",
    "nltk.download(\"stopwords\")\n",
    "stop_words = list(stopwords.words(\"english\"))"
   ]
  },
  {
   "cell_type": "code",
   "execution_count": 19,
   "metadata": {},
   "outputs": [],
   "source": [
    "wordnet_lemmatizer = WordNetLemmatizer()\n",
    "nrows = len(df)\n",
    "lemmatized_text_list = []\n",
    "\n",
    "for row in range(0, nrows):\n",
    "    lemmatized_list = []\n",
    "    text = df.loc[row][\"Content_Parsed_4\"]\n",
    "    text_words = text.split(\" \")\n",
    "\n",
    "    for word in text_words:\n",
    "        lemmatized_list.append(wordnet_lemmatizer.lemmatize(word, pos=\"v\"))\n",
    "\n",
    "    lemmatized_text = \" \".join(lemmatized_list)\n",
    "    lemmatized_text_list.append(lemmatized_text)\n",
    "\n",
    "nrows_ = len(df_)\n",
    "lemmatized_text_list_ = []\n",
    "\n",
    "for row in range(0, nrows_):\n",
    "    lemmatized_list = []\n",
    "    text = df_.loc[row][\"Content_Parsed_4\"]\n",
    "    text_words = text.split(\" \")\n",
    "\n",
    "    for word in text_words:\n",
    "        lemmatized_list.append(wordnet_lemmatizer.lemmatize(word, pos=\"v\"))\n",
    "\n",
    "    lemmatized_text = \" \".join(lemmatized_list)\n",
    "    lemmatized_text_list_.append(lemmatized_text)"
   ]
  },
  {
   "cell_type": "code",
   "execution_count": 20,
   "metadata": {},
   "outputs": [],
   "source": [
    "df[\"Content_Parsed_5\"] = lemmatized_text_list\n",
    "df_[\"Content_Parsed_5\"] = lemmatized_text_list_"
   ]
  },
  {
   "cell_type": "code",
   "execution_count": 21,
   "metadata": {},
   "outputs": [],
   "source": [
    "df[\"Content_Parsed_6\"] = df[\"Content_Parsed_5\"]\n",
    "df_[\"Content_Parsed_6\"] = df_[\"Content_Parsed_5\"]\n",
    "\n",
    "for stop_word in stop_words:\n",
    "    regex_stopword = r\"\\b\" + stop_word + r\"\\b\"\n",
    "    df[\"Content_Parsed_6\"] = df[\"Content_Parsed_6\"].str.replace(regex_stopword, \"\")\n",
    "    df_[\"Content_Parsed_6\"] = df_[\"Content_Parsed_6\"].str.replace(regex_stopword, \"\")\n"
   ]
  },
  {
   "cell_type": "code",
   "execution_count": 22,
   "metadata": {},
   "outputs": [
    {
     "data": {
      "text/plain": [
       "0         several open available   area offer  competi...\n",
       "1        call center representative   provide  sociall...\n",
       "2       tpg  search  chief accountant  one   business ...\n",
       "3        office service associate   base   san jose ca...\n",
       "4       oracle fusion hcm resourcelocation  north cant...\n",
       "                              ...                        \n",
       "7147     uswe take  hassle   find  book  cleaner onlin...\n",
       "7148      qa engineer    responsible  lead  quality as...\n",
       "7149     urgently require  day  night trunkers run   a...\n",
       "7150    experience firmware engineer  require  respons...\n",
       "7151      fantastic opportunity  someone want  start  ...\n",
       "Name: description, Length: 7152, dtype: object"
      ]
     },
     "execution_count": 22,
     "metadata": {},
     "output_type": "execute_result"
    }
   ],
   "source": [
    "df[\"description\"] = df[\"Content_Parsed_6\"].replace(\"’\", \"\")\n",
    "df[\"description\"].apply(lambda x: re.sub(\"(email)|(url)\\w+\", \"\", x))\n",
    "df[\"description\"].apply(lambda x: re.sub(\"\\w*\\d\\w*\", \"\", x))\n",
    "\n",
    "df_[\"description\"] = df_[\"Content_Parsed_6\"].replace(\"’\", \"\")\n",
    "df_[\"description\"].apply(lambda x: re.sub(\"(email)|(url)\\w+\", \"\", x))\n",
    "df_[\"description\"].apply(lambda x: re.sub(\"\\w*\\d\\w*\", \"\", x))\n"
   ]
  },
  {
   "cell_type": "code",
   "execution_count": 23,
   "metadata": {},
   "outputs": [],
   "source": [
    "df[\"text_len\"] = df[\"description\"].str.len()\n",
    "df_[\"text_len\"] = df_[\"description\"].str.len()"
   ]
  },
  {
   "cell_type": "code",
   "execution_count": 24,
   "metadata": {},
   "outputs": [],
   "source": [
    "word_vectorizer = TfidfVectorizer(\n",
    "    encoding=\"utf-8\",\n",
    "    ngram_range=(1, 2),\n",
    "    stop_words=None,\n",
    "    lowercase=False,\n",
    "    max_df=10,\n",
    "    min_df=1,\n",
    "    max_features=8000,\n",
    "    norm=\"l2\",\n",
    "    sublinear_tf=True,\n",
    ")\n",
    "\n",
    "char_vectorizer = TfidfVectorizer(\n",
    "    sublinear_tf=True,\n",
    "    strip_accents=\"unicode\",\n",
    "    analyzer=\"char\",\n",
    "    ngram_range=(1, 4),\n",
    "    dtype=np.float32,\n",
    "    max_features=8000,\n",
    ")"
   ]
  },
  {
   "cell_type": "code",
   "execution_count": 25,
   "metadata": {},
   "outputs": [],
   "source": [
    "from sklearn.base import BaseEstimator, TransformerMixin\n",
    "\n",
    "\n",
    "class DataFrameSelector(BaseEstimator, TransformerMixin):\n",
    "    def __init__(self, attribute_names):\n",
    "        self.attribute_names = attribute_names\n",
    "\n",
    "    def fit(self, X, y=None):\n",
    "        return self\n",
    "\n",
    "    def transform(self, X):\n",
    "        return X[self.attribute_names]\n"
   ]
  },
  {
   "cell_type": "code",
   "execution_count": null,
   "metadata": {},
   "outputs": [],
   "source": []
  },
  {
   "cell_type": "code",
   "execution_count": 26,
   "metadata": {},
   "outputs": [],
   "source": [
    "str_features = \"description\"\n",
    "cat_features = [\"country\", \"has_company_logo\", \"has_questions\", \"telecommuting\"]\n",
    "num_features = [  #'num',\n",
    "    #'doughnuts_comsumption',\n",
    "    \"text_len\",\n",
    "    \"job_id\",\n",
    "    #'word_counts',\n",
    "    #'characters_per_word'\n",
    "]\n"
   ]
  },
  {
   "cell_type": "code",
   "execution_count": 27,
   "metadata": {},
   "outputs": [],
   "source": [
    "text_word = Pipeline(\n",
    "    [(\"selector\", DataFrameSelector(str_features)), (\"vectorizer\", word_vectorizer)]\n",
    ")\n",
    "text_char = Pipeline(\n",
    "    [(\"selector\", DataFrameSelector(str_features)), (\"vectorizer\", char_vectorizer)]\n",
    ")\n",
    "\n",
    "text = FeatureUnion([(\"text_word\", text_word), (\"text_char\", text_char)])"
   ]
  },
  {
   "cell_type": "code",
   "execution_count": 28,
   "metadata": {},
   "outputs": [],
   "source": [
    "num_feats = Pipeline(\n",
    "    [\n",
    "        (\"selector\", DataFrameSelector(num_features)),\n",
    "        # ('standard', StandardScaler())\n",
    "    ]\n",
    ")"
   ]
  },
  {
   "cell_type": "code",
   "execution_count": 29,
   "metadata": {},
   "outputs": [],
   "source": [
    "cat_feats = Pipeline(\n",
    "    [\n",
    "        (\"selector\", DataFrameSelector(cat_features)),\n",
    "        (\"encode\", OneHotEncoder(handle_unknown=\"ignore\")),\n",
    "    ]\n",
    ")"
   ]
  },
  {
   "cell_type": "code",
   "execution_count": 30,
   "metadata": {},
   "outputs": [],
   "source": [
    "feats = FeatureUnion(\n",
    "    [(\"text\", text), (\"num_feats\", num_feats), (\"cat_feats\", cat_feats)]\n",
    ")"
   ]
  },
  {
   "cell_type": "code",
   "execution_count": 31,
   "metadata": {},
   "outputs": [],
   "source": [
    "pickle.dump(df, open(\"data_clean.pkl\", \"wb\"))"
   ]
  },
  {
   "cell_type": "code",
   "execution_count": 32,
   "metadata": {},
   "outputs": [],
   "source": [
    "y = df[\"fraudulent\"]\n",
    "X_train, X_test, y_train, y_test = train_test_split(df, y, test_size=0.2)\n",
    "X_ = df_"
   ]
  },
  {
   "cell_type": "code",
   "execution_count": 33,
   "metadata": {},
   "outputs": [
    {
     "data": {
      "text/plain": [
       "Pipeline(steps=[('features',\n",
       "                 FeatureUnion(transformer_list=[('text',\n",
       "                                                 FeatureUnion(transformer_list=[('text_word',\n",
       "                                                                                 Pipeline(steps=[('selector',\n",
       "                                                                                                  DataFrameSelector(attribute_names='description')),\n",
       "                                                                                                 ('vectorizer',\n",
       "                                                                                                  TfidfVectorizer(lowercase=False,\n",
       "                                                                                                                  max_df=10,\n",
       "                                                                                                                  max_features=8000,\n",
       "                                                                                                                  ngram_range=(1,\n",
       "                                                                                                                               2),\n",
       "                                                                                                                  sublinear_tf=True))])),\n",
       "                                                                                ('text_char',\n",
       "                                                                                 Pipeline(steps=[('selector',\n",
       "                                                                                                  DataF...\n",
       "                                                                                                     'job_id']))])),\n",
       "                                                ('cat_feats',\n",
       "                                                 Pipeline(steps=[('selector',\n",
       "                                                                  DataFrameSelector(attribute_names=['country',\n",
       "                                                                                                     'has_company_logo',\n",
       "                                                                                                     'has_questions',\n",
       "                                                                                                     'telecommuting'])),\n",
       "                                                                 ('encode',\n",
       "                                                                  OneHotEncoder(handle_unknown='ignore'))]))])),\n",
       "                ('standard', StandardScaler(with_mean=False)),\n",
       "                ('selector', SelectFromModel(estimator=LinearSVC())),\n",
       "                ('SMOTE', SMOTE()), ('classifier', LinearSVC())])"
      ]
     },
     "execution_count": 33,
     "metadata": {},
     "output_type": "execute_result"
    }
   ],
   "source": [
    "clf = LinearSVC()\n",
    "\n",
    "# Create pipeline \n",
    "pipe = imbPipeline(\n",
    "    [\n",
    "        (\"features\", feats),\n",
    "        (\"standard\", StandardScaler(with_mean=False)),\n",
    "        (\"selector\", SelectFromModel(estimator=LinearSVC())),\n",
    "        (\"SMOTE\", SMOTE()),\n",
    "        (\"classifier\", clf),\n",
    "    ]\n",
    ")\n",
    "\n",
    "# fitting our model.\n",
    "pipe.fit(X_train, y_train)"
   ]
  },
  {
   "cell_type": "code",
   "execution_count": 34,
   "metadata": {},
   "outputs": [],
   "source": [
    "pickle.dump(pipe, open(\"model.pkl\", \"wb\"))"
   ]
  },
  {
   "cell_type": "code",
   "execution_count": 35,
   "metadata": {},
   "outputs": [
    {
     "data": {
      "text/plain": [
       "81"
      ]
     },
     "execution_count": 35,
     "metadata": {},
     "output_type": "execute_result"
    }
   ],
   "source": [
    "predicted_LinearSVC = pipe.predict(X_test)\n",
    "np.sum(predicted_LinearSVC)"
   ]
  },
  {
   "cell_type": "code",
   "execution_count": 36,
   "metadata": {},
   "outputs": [
    {
     "data": {
      "text/plain": [
       "273"
      ]
     },
     "execution_count": 36,
     "metadata": {},
     "output_type": "execute_result"
    }
   ],
   "source": [
    "predicted_LinearSVC_X_ = pipe.predict(X_)\n",
    "np.sum(predicted_LinearSVC_X_)"
   ]
  },
  {
   "cell_type": "code",
   "execution_count": 37,
   "metadata": {},
   "outputs": [],
   "source": [
    "file = pd.DataFrame(predicted_LinearSVC_X_)\n",
    "file.index.name = \"Id\"\n",
    "file.to_csv(\"pred_LinearSVC.csv\", index=True, header=[\"Category\"])"
   ]
  },
  {
   "cell_type": "code",
   "execution_count": 38,
   "metadata": {},
   "outputs": [
    {
     "name": "stdout",
     "output_type": "stream",
     "text": [
      "Logistic Regression Accuracy: 0.9822926374650512\n",
      "Logistic Regression Recall: 0.7047619047619048\n",
      "0.8506661067170622\n",
      "              precision    recall  f1-score   support\n",
      "\n",
      "           0       0.98      1.00      0.99      2041\n",
      "           1       0.91      0.70      0.80       105\n",
      "\n",
      "    accuracy                           0.98      2146\n",
      "   macro avg       0.95      0.85      0.89      2146\n",
      "weighted avg       0.98      0.98      0.98      2146\n",
      "\n",
      "confusion_matrix:\n",
      " [[2034    7]\n",
      " [  31   74]]\n"
     ]
    }
   ],
   "source": [
    "# Model Accuracy\n",
    "print(\"Logistic Regression Accuracy:\", accuracy_score(y_test, predicted_LinearSVC))\n",
    "print(\"Logistic Regression Recall:\", recall_score(y_test, predicted_LinearSVC))\n",
    "print(roc_auc_score(y_test, predicted_LinearSVC))\n",
    "print(classification_report(y_test, predicted_LinearSVC))\n",
    "print(f\"confusion_matrix:\\n {confusion_matrix(y_test,predicted_LinearSVC)}\")"
   ]
  },
  {
   "cell_type": "code",
   "execution_count": 39,
   "metadata": {},
   "outputs": [
    {
     "data": {
      "text/plain": [
       "<sklearn.metrics._plot.confusion_matrix.ConfusionMatrixDisplay at 0x7f3a7a2798d0>"
      ]
     },
     "execution_count": 39,
     "metadata": {},
     "output_type": "execute_result"
    },
    {
     "data": {
      "image/png": "[encoded data removed]",
      "text/plain": [
       "<Figure size 640x480 with 2 Axes>"
      ]
     },
     "metadata": {},
     "output_type": "display_data"
    }
   ],
   "source": [
    "plot_confusion_matrix(pipe, X_test, y_test, cmap=\"Blues\", values_format=\" \")"
   ]
  },
  {
   "cell_type": "code",
   "execution_count": null,
   "metadata": {},
   "outputs": [],
   "source": [
    "parameters = {\n",
    "    #'classifier__class_weight' : ['none', 'balanced', '{0:1, 1:10}'],\n",
    "    #'classifier__penalty' : ['l1','l2'],\n",
    "    #'classifier__C'       : np.logspace(-4,4,9),\n",
    "    #'classifier__solver'  : ['newton-cg', 'lbfgs', 'liblinear'],\n",
    "    \"classifier__C\": np.logspace(-4, 4, 9),\n",
    "    \"classifier__tol\": [1, 0.1, 0.01],\n",
    "}"
   ]
  },
  {
   "cell_type": "code",
   "execution_count": null,
   "metadata": {},
   "outputs": [],
   "source": [
    "from sklearn.model_selection import GridSearchCV\n",
    "\n",
    "clf_GS = GridSearchCV(pipe, parameters, cv=2, n_jobs=4, verbose=1)\n",
    "clf_GS.fit(X_train, y_train)"
   ]
  },
  {
   "cell_type": "code",
   "execution_count": null,
   "metadata": {},
   "outputs": [],
   "source": [
    "print(\"Tuned Hyperparameters :\", clf_GS.best_params_)\n",
    "print(\"Accuracy :\", clf_GS.best_score_)"
   ]
  }
 ],
 "metadata": {
  "kernelspec": {
   "display_name": "Python 3 (ipykernel)",
   "language": "python",
   "name": "python3"
  },
  "language_info": {
   "codemirror_mode": {
    "name": "ipython",
    "version": 3
   },
   "file_extension": ".py",
   "mimetype": "text/x-python",
   "name": "python",
   "nbconvert_exporter": "python",
   "pygments_lexer": "ipython3",
   "version": "3.10.4"
  },
  "vscode": {
   "interpreter": {
    "hash": "5e3c6f8e55b2e96e670335704fb0fb6646b6921df571e619e19c71c88509979d"
   }
  }
 },
 "nbformat": 4,
 "nbformat_minor": 2
}
